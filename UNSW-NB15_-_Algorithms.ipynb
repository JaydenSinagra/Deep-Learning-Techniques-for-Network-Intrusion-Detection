{
 "cells": [
  {
   "cell_type": "code",
   "execution_count": 1,
   "id": "273e338a",
   "metadata": {},
   "outputs": [],
   "source": [
    "# Classifying with 0 as benign and 1 as combined attacks "
   ]
  },
  {
   "cell_type": "code",
   "execution_count": 17,
   "id": "92db22d9",
   "metadata": {},
   "outputs": [],
   "source": [
    "import time\n",
    "import csv\n",
    "\n",
    "import numpy as np\n",
    "import pandas as pd"
   ]
  },
  {
   "cell_type": "code",
   "execution_count": null,
   "id": "4a563b3f",
   "metadata": {},
   "outputs": [],
   "source": [
    "# Reference - https://github.com/fisher85/ml-cybersecurity/blob/master/python-web-attack-detection/web-attack-detection.ipynb"
   ]
  },
  {
   "cell_type": "code",
   "execution_count": 26,
   "id": "7a7fb92e",
   "metadata": {},
   "outputs": [],
   "source": [
    "# Change this based on CSV file location\n",
    "csv_file = 'C:/Users/sinja/OneDrive/Desktop/submit/UNSW-NB15_1.csv'\n",
    "\n",
    "# Defining column indices to be selected from the CSV file\n",
    "selected_columns = [0, 2, 4, 7, 8, 9, 10, 11, 12, 22, 23, 48]\n",
    "\n",
    "# Reading specific columns by their indices (limit of 100k records)\n",
    "file = pd.read_csv(csv_file, usecols = selected_columns, header = None, nrows = 100000)\n",
    "    \n",
    "# Assigning column names \n",
    "file.columns = ['Source IP', 'Destination IP', 'Protocol', 'Src - Dst Bytes', 'Dst - Src Bytes',\n",
    "                'Src - Dst Time to Live', 'Dst - Src Time to Live', 'Source Loss', 'Destination Loss',\n",
    "                'Mean Flow Packet Size (Source)', 'Mean Flow Packet Size (Destination)', 'Attack Name (Binary)']\n",
    " \n",
    "# Defining the path for the new CSV file \n",
    "output_file = 'C:/Users/sinja/OneDrive/Desktop/submit/dataset_2.csv'\n",
    "\n",
    "# Saving the dataframe to a new CSV file\n",
    "file.to_csv(output_file, index = False)"
   ]
  },
  {
   "cell_type": "code",
   "execution_count": 27,
   "id": "44c457f5",
   "metadata": {},
   "outputs": [
    {
     "name": "stdout",
     "output_type": "stream",
     "text": [
      "        Source IP Destination IP Protocol  Src - Dst Bytes  Dst - Src Bytes  \\\n",
      "0      59.166.0.0  149.171.126.6      udp              132              164   \n",
      "1      59.166.0.0  149.171.126.9      udp              528              304   \n",
      "2      59.166.0.6  149.171.126.7      udp              146              178   \n",
      "3      59.166.0.5  149.171.126.5      udp              132              164   \n",
      "4      59.166.0.3  149.171.126.0      udp              146              178   \n",
      "...           ...            ...      ...              ...              ...   \n",
      "99995  59.166.0.3  149.171.126.1      tcp            37178             3380   \n",
      "99996  59.166.0.6  149.171.126.4      tcp             4216             2976   \n",
      "99997  59.166.0.8  149.171.126.8      tcp             8928              320   \n",
      "99998  59.166.0.9  149.171.126.9      tcp              320             1888   \n",
      "99999  59.166.0.2  149.171.126.0      tcp             1580            10168   \n",
      "\n",
      "       Src - Dst Time to Live  Dst - Src Time to Live  Source Loss  \\\n",
      "0                          31                      29            0   \n",
      "1                          31                      29            0   \n",
      "2                          31                      29            0   \n",
      "3                          31                      29            0   \n",
      "4                          31                      29            0   \n",
      "...                       ...                     ...          ...   \n",
      "99995                      31                      29           18   \n",
      "99996                      31                      29            7   \n",
      "99997                      31                      29            4   \n",
      "99998                      31                      29            1   \n",
      "99999                      31                      29            3   \n",
      "\n",
      "       Destination Loss  Mean Flow Packet Size (Source)  \\\n",
      "0                     0                              66   \n",
      "1                     0                             132   \n",
      "2                     0                              73   \n",
      "3                     0                              66   \n",
      "4                     0                              73   \n",
      "...                 ...                             ...   \n",
      "99995                 8                             715   \n",
      "99996                 7                             162   \n",
      "99997                 1                             638   \n",
      "99998                 2                              53   \n",
      "99999                 4                             132   \n",
      "\n",
      "       Mean Flow Packet Size (Destination)  Attack Name (Binary)  \n",
      "0                                       82                     0  \n",
      "1                                       76                     0  \n",
      "2                                       89                     0  \n",
      "3                                       82                     0  \n",
      "4                                       89                     0  \n",
      "...                                    ...                   ...  \n",
      "99995                                   80                     0  \n",
      "99996                                  106                     0  \n",
      "99997                                   53                     0  \n",
      "99998                                  236                     0  \n",
      "99999                                  565                     0  \n",
      "\n",
      "[100000 rows x 12 columns]\n"
     ]
    }
   ],
   "source": [
    "file = pd.read_csv('dataset_2.csv')\n",
    "print(file)"
   ]
  },
  {
   "cell_type": "code",
   "execution_count": 28,
   "id": "7e858a4d",
   "metadata": {},
   "outputs": [
    {
     "name": "stdout",
     "output_type": "stream",
     "text": [
      "File columns:\n",
      "Index(['Source IP', 'Destination IP', 'Protocol', 'Src - Dst Bytes',\n",
      "       'Dst - Src Bytes', 'Src - Dst Time to Live', 'Dst - Src Time to Live',\n",
      "       'Source Loss', 'Destination Loss', 'Mean Flow Packet Size (Source)',\n",
      "       'Mean Flow Packet Size (Destination)', 'Attack Name (Binary)'],\n",
      "      dtype='object')\n",
      "\n",
      "Data value counts:\n",
      "0    88570\n",
      "1    11430\n",
      "Name: Attack Name (Binary), dtype: int64\n"
     ]
    }
   ],
   "source": [
    "print(\"File columns:\")\n",
    "print(file.columns)\n",
    "\n",
    "# Attack Name (Binary) - 0 = Benign & 1 = Attack\n",
    "print(\"\\nData value counts:\")\n",
    "print(file['Attack Name (Binary)'].value_counts())"
   ]
  },
  {
   "cell_type": "code",
   "execution_count": 29,
   "id": "9e947f7b",
   "metadata": {},
   "outputs": [],
   "source": [
    "# Replacing non-numerical values\n",
    "file.replace('Infinity', -1, inplace = True)\n",
    "\n",
    "# Replacing NaN and Infinite values with -1\n",
    "file.replace([np.inf, -np.inf, np.nan], -1, inplace = True)\n",
    "\n",
    "# Performing one-hot encoding for string columns\n",
    "string_features = list(file.select_dtypes(include = ['object']).columns)\n",
    "file = pd.get_dummies(file, columns = string_features, drop_first = True)"
   ]
  },
  {
   "cell_type": "code",
   "execution_count": 30,
   "id": "53949caf",
   "metadata": {},
   "outputs": [
    {
     "name": "stdout",
     "output_type": "stream",
     "text": [
      "Before Scaling:\n",
      "\n",
      "Y Values:\n",
      "[0 0 0 ... 0 0 0]\n",
      "\n",
      "X Values:\n",
      "       Src - Dst Bytes  Dst - Src Bytes  Src - Dst Time to Live  \\\n",
      "0                  132              164                      31   \n",
      "1                  528              304                      31   \n",
      "2                  146              178                      31   \n",
      "3                  132              164                      31   \n",
      "4                  146              178                      31   \n",
      "...                ...              ...                     ...   \n",
      "99995            37178             3380                      31   \n",
      "99996             4216             2976                      31   \n",
      "99997             8928              320                      31   \n",
      "99998              320             1888                      31   \n",
      "99999             1580            10168                      31   \n",
      "\n",
      "       Dst - Src Time to Live  Source Loss  Destination Loss  \\\n",
      "0                          29            0                 0   \n",
      "1                          29            0                 0   \n",
      "2                          29            0                 0   \n",
      "3                          29            0                 0   \n",
      "4                          29            0                 0   \n",
      "...                       ...          ...               ...   \n",
      "99995                      29           18                 8   \n",
      "99996                      29            7                 7   \n",
      "99997                      29            4                 1   \n",
      "99998                      29            1                 2   \n",
      "99999                      29            3                 4   \n",
      "\n",
      "       Mean Flow Packet Size (Source)  Mean Flow Packet Size (Destination)  \\\n",
      "0                                  66                                   82   \n",
      "1                                 132                                   76   \n",
      "2                                  73                                   89   \n",
      "3                                  66                                   82   \n",
      "4                                  73                                   89   \n",
      "...                               ...                                  ...   \n",
      "99995                             715                                   80   \n",
      "99996                             162                                  106   \n",
      "99997                             638                                   53   \n",
      "99998                              53                                  236   \n",
      "99999                             132                                  565   \n",
      "\n",
      "       Source IP_10.40.182.1  Source IP_10.40.182.3  ...  Protocol_visa  \\\n",
      "0                          0                      0  ...              0   \n",
      "1                          0                      0  ...              0   \n",
      "2                          0                      0  ...              0   \n",
      "3                          0                      0  ...              0   \n",
      "4                          0                      0  ...              0   \n",
      "...                      ...                    ...  ...            ...   \n",
      "99995                      0                      0  ...              0   \n",
      "99996                      0                      0  ...              0   \n",
      "99997                      0                      0  ...              0   \n",
      "99998                      0                      0  ...              0   \n",
      "99999                      0                      0  ...              0   \n",
      "\n",
      "       Protocol_vmtp  Protocol_vrrp  Protocol_wb-expak  Protocol_wb-mon  \\\n",
      "0                  0              0                  0                0   \n",
      "1                  0              0                  0                0   \n",
      "2                  0              0                  0                0   \n",
      "3                  0              0                  0                0   \n",
      "4                  0              0                  0                0   \n",
      "...              ...            ...                ...              ...   \n",
      "99995              0              0                  0                0   \n",
      "99996              0              0                  0                0   \n",
      "99997              0              0                  0                0   \n",
      "99998              0              0                  0                0   \n",
      "99999              0              0                  0                0   \n",
      "\n",
      "       Protocol_wsn  Protocol_xnet  Protocol_xns-idp  Protocol_xtp  \\\n",
      "0                 0              0                 0             0   \n",
      "1                 0              0                 0             0   \n",
      "2                 0              0                 0             0   \n",
      "3                 0              0                 0             0   \n",
      "4                 0              0                 0             0   \n",
      "...             ...            ...               ...           ...   \n",
      "99995             0              0                 0             0   \n",
      "99996             0              0                 0             0   \n",
      "99997             0              0                 0             0   \n",
      "99998             0              0                 0             0   \n",
      "99999             0              0                 0             0   \n",
      "\n",
      "       Protocol_zero  \n",
      "0                  0  \n",
      "1                  0  \n",
      "2                  0  \n",
      "3                  0  \n",
      "4                  0  \n",
      "...              ...  \n",
      "99995              0  \n",
      "99996              0  \n",
      "99997              0  \n",
      "99998              0  \n",
      "99999              0  \n",
      "\n",
      "[100000 rows x 221 columns]\n"
     ]
    }
   ],
   "source": [
    "# Extracting 'Attack_Label' as 'y'\n",
    "y = file['Attack Name (Binary)'].values\n",
    "\n",
    "# Extracting remaining columns as 'x'\n",
    "x = file.drop(columns = ['Attack Name (Binary)'])\n",
    "\n",
    "print(\"Before Scaling:\")\n",
    "print(\"\\nY Values:\")\n",
    "print(y)\n",
    "print(\"\\nX Values:\")\n",
    "print(x)"
   ]
  },
  {
   "cell_type": "code",
   "execution_count": 31,
   "id": "abb5956c",
   "metadata": {},
   "outputs": [
    {
     "name": "stdout",
     "output_type": "stream",
     "text": [
      "After Scaling:\n",
      "\n",
      "Y Values:\n",
      "[0 0 0 ... 0 0 0]\n",
      "\n",
      "X Values:\n",
      "[[1.06348570e-05 1.11904015e-05 1.21568627e-01 ... 0.00000000e+00\n",
      "  0.00000000e+00 0.00000000e+00]\n",
      " [5.11291202e-05 2.07431832e-05 1.21568627e-01 ... 0.00000000e+00\n",
      "  0.00000000e+00 0.00000000e+00]\n",
      " [1.20664724e-05 1.21456796e-05 1.21568627e-01 ... 0.00000000e+00\n",
      "  0.00000000e+00 0.00000000e+00]\n",
      " ...\n",
      " [9.10098339e-04 2.18349297e-05 1.21568627e-01 ... 0.00000000e+00\n",
      "  0.00000000e+00 0.00000000e+00]\n",
      " [2.98594062e-05 1.28826085e-04 1.21568627e-01 ... 0.00000000e+00\n",
      "  0.00000000e+00 0.00000000e+00]\n",
      " [1.58704789e-04 6.93804891e-04 1.21568627e-01 ... 0.00000000e+00\n",
      "  0.00000000e+00 0.00000000e+00]]\n"
     ]
    }
   ],
   "source": [
    "from sklearn.preprocessing import MinMaxScaler\n",
    "\n",
    "scaler = MinMaxScaler()\n",
    "\n",
    "# Fitting and transforming the features using Min-Max Scaling\n",
    "x = scaler.fit_transform(x)\n",
    "\n",
    "print(\"After Scaling:\")\n",
    "print(\"\\nY Values:\")\n",
    "print(y)\n",
    "print(\"\\nX Values:\")\n",
    "print(x)"
   ]
  },
  {
   "cell_type": "code",
   "execution_count": 32,
   "id": "5a679264",
   "metadata": {},
   "outputs": [
    {
     "name": "stdout",
     "output_type": "stream",
     "text": [
      "Y Train:\n",
      "[0 0 0 ... 0 0 0]\n",
      "\n",
      "X Train:\n",
      "[[1.20664724e-05 1.21456796e-05 1.21568627e-01 ... 0.00000000e+00\n",
      "  0.00000000e+00 0.00000000e+00]\n",
      " [1.58704789e-04 6.93804891e-04 1.21568627e-01 ... 0.00000000e+00\n",
      "  0.00000000e+00 0.00000000e+00]\n",
      " [2.06561645e-04 1.64444314e-04 1.21568627e-01 ... 0.00000000e+00\n",
      "  0.00000000e+00 0.00000000e+00]\n",
      " ...\n",
      " [4.41142049e-04 4.23815986e-03 1.21568627e-01 ... 0.00000000e+00\n",
      "  0.00000000e+00 0.00000000e+00]\n",
      " [3.96966489e-04 3.53507512e-03 1.21568627e-01 ... 0.00000000e+00\n",
      "  0.00000000e+00 0.00000000e+00]\n",
      " [1.02667273e-04 5.60884757e-05 1.21568627e-01 ... 0.00000000e+00\n",
      "  0.00000000e+00 0.00000000e+00]]\n",
      "\n",
      "Y Test:\n",
      "[0 0 0 ... 0 0 0]\n",
      "\n",
      "X Test:\n",
      "[[1.20664724e-05 1.21456796e-05 1.21568627e-01 ... 0.00000000e+00\n",
      "  0.00000000e+00 0.00000000e+00]\n",
      " [1.20664724e-05 1.21456796e-05 1.21568627e-01 ... 0.00000000e+00\n",
      "  0.00000000e+00 0.00000000e+00]\n",
      " [1.20664724e-05 1.21456796e-05 1.21568627e-01 ... 0.00000000e+00\n",
      "  0.00000000e+00 0.00000000e+00]\n",
      " ...\n",
      " [1.20664724e-05 1.21456796e-05 1.21568627e-01 ... 0.00000000e+00\n",
      "  0.00000000e+00 0.00000000e+00]\n",
      " [4.60980147e-04 2.10161198e-04 1.21568627e-01 ... 0.00000000e+00\n",
      "  0.00000000e+00 0.00000000e+00]\n",
      " [2.97162446e-04 2.55195741e-04 1.21568627e-01 ... 0.00000000e+00\n",
      "  0.00000000e+00 0.00000000e+00]]\n",
      "\n",
      "Y Train value counts:\n",
      "0    62033\n",
      "1     7967\n",
      "dtype: int64\n",
      "\n",
      "Y Test value counts:\n",
      "0    26537\n",
      "1     3463\n",
      "dtype: int64\n"
     ]
    }
   ],
   "source": [
    "# Splitting the dataset by Train-Test Split (70% train set and 30% test set)\n",
    "\n",
    "from sklearn.model_selection import train_test_split\n",
    "\n",
    "# Splitting the data into training and testing sets\n",
    "x_train, x_test, y_train, y_test = train_test_split(x, y, train_size = 0.7, test_size = 0.3, random_state = 42)\n",
    "\n",
    "print(\"Y Train:\")\n",
    "print(y_train)\n",
    "print(\"\\nX Train:\")\n",
    "print(x_train)\n",
    "\n",
    "print(\"\\nY Test:\")\n",
    "print(y_test)\n",
    "print(\"\\nX Test:\")\n",
    "print(x_test)\n",
    "\n",
    "# Converting to Pandas Series\n",
    "y_train_series = pd.Series(y_train)\n",
    "y_test_series = pd.Series(y_test)\n",
    "\n",
    "print(\"\\nY Train value counts:\")\n",
    "print(y_train_series.value_counts())\n",
    "print(\"\\nY Test value counts:\")\n",
    "print(y_test_series.value_counts())"
   ]
  },
  {
   "cell_type": "code",
   "execution_count": 35,
   "id": "03a885eb",
   "metadata": {},
   "outputs": [],
   "source": [
    "from sklearn.model_selection import GridSearchCV\n",
    "\n",
    "from sklearn.metrics import classification_report\n",
    "from sklearn.metrics import confusion_matrix, plot_confusion_matrix\n",
    "from sklearn.model_selection import learning_curve\n",
    "\n",
    "import matplotlib.pyplot as plt\n",
    "\n",
    "import seaborn as sns\n",
    "import seaborn as sn "
   ]
  },
  {
   "cell_type": "code",
   "execution_count": 36,
   "id": "d3ab7aef",
   "metadata": {},
   "outputs": [
    {
     "name": "stdout",
     "output_type": "stream",
     "text": [
      "Time consumed to fit model is  1536.594962835312\n",
      "The best parameter is:\n",
      "{'max_features': 1, 'n_estimators': 20}\n",
      "              precision    recall  f1-score   support\n",
      "\n",
      "           0       0.99      1.00      0.99     26537\n",
      "           1       0.97      0.94      0.96      3463\n",
      "\n",
      "    accuracy                           0.99     30000\n",
      "   macro avg       0.98      0.97      0.98     30000\n",
      "weighted avg       0.99      0.99      0.99     30000\n",
      "\n"
     ]
    },
    {
     "data": {
      "text/plain": [
       "Text(0.5, 1.0, 'Confusion Matrix - Random Forest')"
      ]
     },
     "execution_count": 36,
     "metadata": {},
     "output_type": "execute_result"
    },
    {
     "data": {
      "image/png": "[encoded data removed]",
      "text/plain": [
       "<Figure size 720x576 with 2 Axes>"
      ]
     },
     "metadata": {
      "needs_background": "light"
     },
     "output_type": "display_data"
    }
   ],
   "source": [
    "# Random Forest \n",
    "\n",
    "# Reference - https://www.kaggle.com/code/sociopath00/random-forest-using-gridsearchcv\n",
    "\n",
    "from sklearn.ensemble import RandomForestClassifier\n",
    "\n",
    "rfc = RandomForestClassifier()\n",
    "\n",
    "# Defining parameter range\n",
    "param_grid = dict(max_features = np.arange(1,4,1), \n",
    "                  n_estimators = np.arange(10,200,10))\n",
    "\n",
    "# Parameter Description\n",
    "# max_features = number of features to consider when looking for the best split\n",
    "# n_estimators = number of trees in the forest\n",
    "\n",
    "grid = GridSearchCV(estimator = rfc, param_grid = param_grid, cv = 5)\n",
    "\n",
    "start = time.time()\n",
    "\n",
    "# Fitting the model for grid search\n",
    "grid.fit(x_train, y_train.ravel())\n",
    "\n",
    "end = time.time()\n",
    "\n",
    "print(\"Time consumed to fit model is \", end - start)\n",
    "\n",
    "print(\"The best parameter is:\")\n",
    "print(grid.best_params_)\n",
    "\n",
    "# Predictions on the test set\n",
    "grid_predictions = grid.predict(x_test)\n",
    "\n",
    "print(classification_report(y_test.ravel(), grid_predictions))\n",
    "\n",
    "# Plotting the Confusion Matrix\n",
    "conf_matrix = confusion_matrix(y_test.ravel(), grid_predictions)\n",
    "plt.figure(figsize = (10,8))\n",
    "sn.heatmap(conf_matrix, annot = True, cmap = 'Blues',  fmt = 'd', cbar = True)\n",
    "plt.xlabel('Predicted_Label')\n",
    "plt.ylabel('Truth_Label')\n",
    "plt.title('Confusion Matrix - Random Forest')"
   ]
  },
  {
   "cell_type": "code",
   "execution_count": 37,
   "id": "3e54fdaa",
   "metadata": {},
   "outputs": [
    {
     "name": "stdout",
     "output_type": "stream",
     "text": [
      "Time consumed to fit model is  6497.135479211807\n",
      "The best parameter is:\n",
      "{'C': 10, 'gamma': 1, 'kernel': 'poly'}\n",
      "              precision    recall  f1-score   support\n",
      "\n",
      "           0       0.99      0.99      0.99     26537\n",
      "           1       0.94      0.93      0.94      3463\n",
      "\n",
      "    accuracy                           0.99     30000\n",
      "   macro avg       0.97      0.96      0.96     30000\n",
      "weighted avg       0.99      0.99      0.99     30000\n",
      "\n"
     ]
    },
    {
     "data": {
      "text/plain": [
       "Text(0.5, 1.0, 'Confusion Matrix - SVM')"
      ]
     },
     "execution_count": 37,
     "metadata": {},
     "output_type": "execute_result"
    },
    {
     "data": {
      "image/png": "[encoded data removed]",
      "text/plain": [
       "<Figure size 720x576 with 2 Axes>"
      ]
     },
     "metadata": {
      "needs_background": "light"
     },
     "output_type": "display_data"
    }
   ],
   "source": [
    "# SVM\n",
    "\n",
    "# Reference - https://medium.com/swlh/hyperparameter-tuning-of-support-vector-machine-using-gridsearchcv-4d17671d1ed2\n",
    "\n",
    "from sklearn.svm import SVC\n",
    "\n",
    "svc = SVC()\n",
    "\n",
    "# Defining parameter range\n",
    "param_grid = {'C': [0.1, 1, 10],            \n",
    "              'gamma': [0.01, 0.1, 1],       \n",
    "              'kernel': ['rbf', 'poly'],     \n",
    "             }\n",
    "\n",
    "# Parameter Description\n",
    "# C = governs the balance between maximizing the margin and minimizing classification errors\n",
    "# gamma = influences the shape of the decision boundary\n",
    "\n",
    "grid = GridSearchCV(estimator = svc, param_grid = param_grid, cv = 5)\n",
    "\n",
    "start = time.time()\n",
    "\n",
    "# Fitting the model for grid search\n",
    "grid.fit(x_train, y_train.ravel())\n",
    "\n",
    "end = time.time()\n",
    "\n",
    "print(\"Time consumed to fit model is \", end - start)\n",
    "\n",
    "print(\"The best parameter is:\")\n",
    "print(grid.best_params_)\n",
    "\n",
    "# Predictions on the test set\n",
    "grid_predictions = grid.predict(x_test)\n",
    "\n",
    "print(classification_report(y_test.ravel(), grid_predictions))\n",
    "\n",
    "# Plotting the Confusion Matrix\n",
    "conf_matrix = confusion_matrix(y_test.ravel(), grid_predictions)\n",
    "plt.figure(figsize = (10, 8))\n",
    "sn.heatmap(conf_matrix, annot = True, cmap = 'Blues', fmt = 'd', cbar = True)\n",
    "plt.xlabel('Predicted_Label')\n",
    "plt.ylabel('Truth_Label')\n",
    "plt.title('Confusion Matrix - SVM')"
   ]
  },
  {
   "cell_type": "code",
   "execution_count": 38,
   "id": "ef9a13c0",
   "metadata": {},
   "outputs": [
    {
     "name": "stdout",
     "output_type": "stream",
     "text": [
      "Time consumed to fit model is  2793.4774417877197\n",
      "Best parameters found:\n",
      " {'activation': 'relu', 'hidden_layer_sizes': (400,), 'learning_rate': 'adaptive', 'learning_rate_init': 0.1}\n",
      "              precision    recall  f1-score   support\n",
      "\n",
      "           0       0.98      1.00      0.99     26537\n",
      "           1       0.97      0.87      0.92      3463\n",
      "\n",
      "    accuracy                           0.98     30000\n",
      "   macro avg       0.98      0.93      0.95     30000\n",
      "weighted avg       0.98      0.98      0.98     30000\n",
      "\n"
     ]
    },
    {
     "data": {
      "text/plain": [
       "Text(0.5, 1.0, 'Confusion Matrix - Vanilla Neural Network')"
      ]
     },
     "execution_count": 38,
     "metadata": {},
     "output_type": "execute_result"
    },
    {
     "data": {
      "image/png": "[encoded data removed]",
      "text/plain": [
       "<Figure size 720x576 with 2 Axes>"
      ]
     },
     "metadata": {
      "needs_background": "light"
     },
     "output_type": "display_data"
    }
   ],
   "source": [
    "# Vanilla Neural Network \n",
    "\n",
    "# Reference - https://www.pluralsight.com/guides/machine-learning-neural-networks-scikit-learn\n",
    "\n",
    "from sklearn.neural_network import MLPClassifier\n",
    "\n",
    "mlpc = MLPClassifier()\n",
    "\n",
    "param_grid_2 = {'learning_rate': ['constant','adaptive'], \n",
    "                'learning_rate_init': [0.1, 0.5, 1],\n",
    "                'hidden_layer_sizes': [(100,), (200,), (300,), (400,)],\n",
    "                'activation': ['relu']}\n",
    "\n",
    "# Parameter Description\n",
    "# learning_rate = schedule for weight updates\n",
    "# learning_rate_init = the initial learning rate used\n",
    "#                      controls the step-size in updating the weights\n",
    "#                      only used when solver is ’sgd’ or ‘adam’\n",
    "# hidden_layer_sizes = the ith element represents the number of neurons in the ith hidden layer\n",
    "# activation = activation function for the hidden layer\n",
    "\n",
    "mlp = GridSearchCV(estimator = mlpc, param_grid = param_grid_2, cv = 5)\n",
    "\n",
    "start_2 = time.time()\n",
    "\n",
    "# Fitting the model for grid search\n",
    "mlp.fit(x_train, y_train.ravel())\n",
    "\n",
    "end_2 = time.time()\n",
    "\n",
    "print(\"Time consumed to fit model is \", end_2 - start_2)\n",
    "\n",
    "print('Best parameters found:\\n', mlp.best_params_)\n",
    "\n",
    "# Predictions on the test set\n",
    "mlp_predictions = mlp.predict(x_test)\n",
    "\n",
    "print(classification_report(y_test.ravel(), mlp_predictions))\n",
    "\n",
    "# Plotting the Confusion Matrix\n",
    "conf_matrix_2 = confusion_matrix(y_test.ravel(), mlp_predictions)\n",
    "plt.figure(figsize = (10,8))\n",
    "sn.heatmap(conf_matrix_2, annot = True, cmap = 'Blues',  fmt = 'd', cbar = True)\n",
    "plt.xlabel('Predicted_Label')\n",
    "plt.ylabel('Truth_Label')\n",
    "plt.title('Confusion Matrix - Vanilla Neural Network')"
   ]
  }
 ],
 "metadata": {
  "kernelspec": {
   "display_name": "Python 3",
   "language": "python",
   "name": "python3"
  },
  "language_info": {
   "codemirror_mode": {
    "name": "ipython",
    "version": 3
   },
   "file_extension": ".py",
   "mimetype": "text/x-python",
   "name": "python",
   "nbconvert_exporter": "python",
   "pygments_lexer": "ipython3",
   "version": "3.8.8"
  }
 },
 "nbformat": 4,
 "nbformat_minor": 5
}
